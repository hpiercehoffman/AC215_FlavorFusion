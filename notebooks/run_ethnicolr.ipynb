{
 "cells": [
  {
   "cell_type": "code",
   "execution_count": 1,
   "id": "6f6a7a4e",
   "metadata": {},
   "outputs": [
    {
     "name": "stderr",
     "output_type": "stream",
     "text": [
      "2023-12-03 22:07:29.949174: I external/local_tsl/tsl/cuda/cudart_stub.cc:31] Could not find cuda drivers on your machine, GPU will not be used.\n",
      "2023-12-03 22:07:30.007826: E external/local_xla/xla/stream_executor/cuda/cuda_dnn.cc:9261] Unable to register cuDNN factory: Attempting to register factory for plugin cuDNN when one has already been registered\n",
      "2023-12-03 22:07:30.007868: E external/local_xla/xla/stream_executor/cuda/cuda_fft.cc:607] Unable to register cuFFT factory: Attempting to register factory for plugin cuFFT when one has already been registered\n",
      "2023-12-03 22:07:30.009638: E external/local_xla/xla/stream_executor/cuda/cuda_blas.cc:1515] Unable to register cuBLAS factory: Attempting to register factory for plugin cuBLAS when one has already been registered\n",
      "2023-12-03 22:07:30.020228: I external/local_tsl/tsl/cuda/cudart_stub.cc:31] Could not find cuda drivers on your machine, GPU will not be used.\n",
      "2023-12-03 22:07:30.021921: I tensorflow/core/platform/cpu_feature_guard.cc:182] This TensorFlow binary is optimized to use available CPU instructions in performance-critical operations.\n",
      "To enable the following instructions: AVX2 AVX512F FMA, in other operations, rebuild TensorFlow with the appropriate compiler flags.\n",
      "2023-12-03 22:07:31.910417: W tensorflow/compiler/tf2tensorrt/utils/py_utils.cc:38] TF-TRT Warning: Could not find TensorRT\n"
     ]
    }
   ],
   "source": [
    "import pandas as pd\n",
    "from ethnicolr import pred_wiki_ln, pred_wiki_name"
   ]
  },
  {
   "cell_type": "code",
   "execution_count": 44,
   "id": "453f3754",
   "metadata": {},
   "outputs": [],
   "source": [
    "df = pd.read_csv('new-Massachusetts.csv', index_col=0)"
   ]
  },
  {
   "cell_type": "code",
   "execution_count": 3,
   "id": "eba319c7",
   "metadata": {},
   "outputs": [],
   "source": [
    "firsts = []\n",
    "lasts = []\n",
    "for i in range(df.shape[0]):\n",
    "    full_name = df.iloc[i,0]\n",
    "    try:\n",
    "        splits = full_name.split(' ')\n",
    "        first = splits[0]\n",
    "        last = ' '.join(splits[1:])\n",
    "    except:\n",
    "        first = pd.NA\n",
    "        last = pd.NA\n",
    "    \n",
    "    firsts.append(first)\n",
    "    lasts.append(last)\n"
   ]
  },
  {
   "cell_type": "code",
   "execution_count": 4,
   "id": "cbd1e74c",
   "metadata": {},
   "outputs": [],
   "source": [
    "df['firsts'] = firsts\n",
    "df['lasts'] = lasts"
   ]
  },
  {
   "cell_type": "code",
   "execution_count": 15,
   "id": "86df7761",
   "metadata": {},
   "outputs": [],
   "source": [
    "odf = pred_wiki_ln(df, 'lasts')"
   ]
  },
  {
   "cell_type": "code",
   "execution_count": 17,
   "id": "a532a2be",
   "metadata": {},
   "outputs": [],
   "source": [
    "race_groups = {\n",
    "    \"Asian,GreaterEastAsian,EastAsian\": \"East Asian\",\n",
    "    \"Asian,GreaterEastAsian,Japanese\": \"East Asian\",\n",
    "    \"Asian,IndianSubContinent\": \"South Asian\",\n",
    "    \"GreaterAfrican,Africans\": \"African\",\n",
    "    \"GreaterAfrican,Muslim\": \"African\",\n",
    "    \"GreaterEuropean,British\": \"Western European\",\n",
    "    \"GreaterEuropean,EastEuropean\": \"Eastern European\",\n",
    "    \"GreaterEuropean,Jewish\": \"Jewish\",\n",
    "    \"GreaterEuropean,WestEuropean,French\": \"Western European\",\n",
    "    \"GreaterEuropean,WestEuropean,Germanic\": \"Western European\",\n",
    "    \"GreaterEuropean,WestEuropean,Hispanic\": \"Western European\",\n",
    "    \"GreaterEuropean,WestEuropean,Italian\": \"Western European\",\n",
    "    \"GreaterEuropean,WestEuropean,Nordic\": \"Nordic\"\n",
    "}"
   ]
  },
  {
   "cell_type": "code",
   "execution_count": null,
   "id": "0afb5cf1",
   "metadata": {},
   "outputs": [],
   "source": []
  },
  {
   "cell_type": "code",
   "execution_count": 34,
   "id": "90118d33",
   "metadata": {},
   "outputs": [],
   "source": [
    "odf = odf[['name', 'text', 'Name', 'address', 'race']]"
   ]
  },
  {
   "cell_type": "code",
   "execution_count": 38,
   "id": "2b1c7d18",
   "metadata": {},
   "outputs": [],
   "source": [
    "odf.to_csv('new-Massachusetts_race.csv')"
   ]
  },
  {
   "cell_type": "code",
   "execution_count": null,
   "id": "d7b50c90",
   "metadata": {},
   "outputs": [],
   "source": []
  }
 ],
 "metadata": {
  "kernelspec": {
   "display_name": "tf",
   "language": "python",
   "name": "tf"
  },
  "language_info": {
   "codemirror_mode": {
    "name": "ipython",
    "version": 3
   },
   "file_extension": ".py",
   "mimetype": "text/x-python",
   "name": "python",
   "nbconvert_exporter": "python",
   "pygments_lexer": "ipython3",
   "version": "3.9.12"
  }
 },
 "nbformat": 4,
 "nbformat_minor": 5
}
