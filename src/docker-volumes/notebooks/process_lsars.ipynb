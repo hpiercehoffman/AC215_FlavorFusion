{
 "cells": [
  {
   "cell_type": "markdown",
   "id": "cfcc6fd1-9203-4c5f-9549-4e98e8da4df4",
   "metadata": {},
   "source": [
    "## Parse and translate LSARS data ##"
   ]
  },
  {
   "cell_type": "code",
   "execution_count": 10,
   "id": "4ee34ec1-b0a1-4341-99cd-be270ce42b52",
   "metadata": {},
   "outputs": [],
   "source": [
    "import json\n",
    "import pandas as pd\n",
    "from tqdm import tqdm\n",
    "from itertools import islice\n",
    "import gc\n",
    "\n",
    "from google.cloud import translate_v2 as translate"
   ]
  },
  {
   "cell_type": "code",
   "execution_count": 15,
   "id": "8d3a3e44-2ef3-4df9-821d-104ae152bbff",
   "metadata": {},
   "outputs": [],
   "source": [
    "data_path = \"../data/chinese_data/\"\n",
    "train_data_path = data_path + \"train.json\"\n",
    "test_data_path = data_path + \"test.json\""
   ]
  },
  {
   "cell_type": "markdown",
   "id": "2e553bfe-61d7-4c95-8cd9-69aa3afac11e",
   "metadata": {},
   "source": [
    "### Processing training data with paid API ###"
   ]
  },
  {
   "cell_type": "code",
   "execution_count": 4,
   "id": "34c12b05-d32e-4810-bd01-d68d66bb9481",
   "metadata": {},
   "outputs": [],
   "source": [
    "translate_client = translate.Client()\n",
    "\n",
    "def join_tokens(token_list):\n",
    "    return \"\".join(token_list)\n",
    "\n",
    "def translate_json(json):\n",
    "    item_id = json[\"item_id\"]\n",
    "    \n",
    "    summary = join_tokens(json[\"hq_tokens\"])\n",
    "    reviews = json[\"lq_tokens_list\"]\n",
    "    review_str = \"\"\n",
    "    reviews = [join_tokens(review) for review in reviews]\n",
    "\n",
    "    translated_summary = translate_client.translate(summary, target_language=\"en\")[\"translatedText\"]\n",
    "    translated_reviews = translate_client.translate(reviews, target_language=\"en\")\n",
    "    translated_reviews = [review[\"translatedText\"] for review in translated_reviews]\n",
    "\n",
    "    return item_id, translated_reviews, translated_summary"
   ]
  },
  {
   "cell_type": "code",
   "execution_count": 12,
   "id": "d52d2569-f348-489a-a345-d00c7ece850b",
   "metadata": {},
   "outputs": [
    {
     "data": {
      "text/plain": [
       "3000"
      ]
     },
     "execution_count": 12,
     "metadata": {},
     "output_type": "execute_result"
    }
   ],
   "source": [
    "with open(train_data_path, 'r') as fp:\n",
    "    json_lines = islice(fp, 2000, 5000)\n",
    "    train_jsons = [json.loads(line) for line in json_lines]\n",
    "\n",
    "len(train_jsons)"
   ]
  },
  {
   "cell_type": "code",
   "execution_count": 13,
   "id": "0740d005-867a-4443-93a5-6b9a2b094088",
   "metadata": {},
   "outputs": [
    {
     "name": "stderr",
     "output_type": "stream",
     "text": [
      "100%|████████████████████████████████████████████████████████████████████████████████████████████████████████████████████████| 3000/3000 [23:52<00:00,  2.09it/s]\n"
     ]
    },
    {
     "data": {
      "text/html": [
       "<div>\n",
       "<style scoped>\n",
       "    .dataframe tbody tr th:only-of-type {\n",
       "        vertical-align: middle;\n",
       "    }\n",
       "\n",
       "    .dataframe tbody tr th {\n",
       "        vertical-align: top;\n",
       "    }\n",
       "\n",
       "    .dataframe thead th {\n",
       "        text-align: right;\n",
       "    }\n",
       "</style>\n",
       "<table border=\"1\" class=\"dataframe\">\n",
       "  <thead>\n",
       "    <tr style=\"text-align: right;\">\n",
       "      <th></th>\n",
       "      <th>id</th>\n",
       "      <th>summary</th>\n",
       "      <th>review_str</th>\n",
       "    </tr>\n",
       "  </thead>\n",
       "  <tbody>\n",
       "    <tr>\n",
       "      <th>0</th>\n",
       "      <td>561854202615</td>\n",
       "      <td>It looks very good, it pills a little, but the...</td>\n",
       "      <td>Not bad, not bad. It&amp;#39;s a fine fabric and d...</td>\n",
       "    </tr>\n",
       "    <tr>\n",
       "      <th>1</th>\n",
       "      <td>561859634230</td>\n",
       "      <td>The clothes have been received. The express de...</td>\n",
       "      <td>The clothes look good and fit well. The seller...</td>\n",
       "    </tr>\n",
       "    <tr>\n",
       "      <th>2</th>\n",
       "      <td>561867951687</td>\n",
       "      <td>The baby has been received. The upper body eff...</td>\n",
       "      <td>The quality of clothes is not bad, not bad||||...</td>\n",
       "    </tr>\n",
       "    <tr>\n",
       "      <th>3</th>\n",
       "      <td>561871433925</td>\n",
       "      <td>It&amp;#39;s very warm and the customer service is...</td>\n",
       "      <td>Overall it&amp;#39;s very good, the warm color is ...</td>\n",
       "    </tr>\n",
       "    <tr>\n",
       "      <th>4</th>\n",
       "      <td>561872533813</td>\n",
       "      <td>The quality is very good, feel free to buy fro...</td>\n",
       "      <td>I really like the collar of the sweater. The c...</td>\n",
       "    </tr>\n",
       "    <tr>\n",
       "      <th>...</th>\n",
       "      <td>...</td>\n",
       "      <td>...</td>\n",
       "      <td>...</td>\n",
       "    </tr>\n",
       "    <tr>\n",
       "      <th>2995</th>\n",
       "      <td>567101327374</td>\n",
       "      <td>Very beautiful, no color difference, the real ...</td>\n",
       "      <td>The original camera was taken casually in the ...</td>\n",
       "    </tr>\n",
       "    <tr>\n",
       "      <th>2996</th>\n",
       "      <td>25398872232</td>\n",
       "      <td>The upper body effect is good, the fabric is c...</td>\n",
       "      <td>The fabric feels quite comfortable. I’ll revie...</td>\n",
       "    </tr>\n",
       "    <tr>\n",
       "      <th>2997</th>\n",
       "      <td>39653879471</td>\n",
       "      <td>This classic style is very summery. When paire...</td>\n",
       "      <td>I just tried it and I like it very much. The q...</td>\n",
       "    </tr>\n",
       "    <tr>\n",
       "      <th>2998</th>\n",
       "      <td>40484786894</td>\n",
       "      <td>There is no color difference when I receive th...</td>\n",
       "      <td>I bought two pieces. The quality is the same, ...</td>\n",
       "    </tr>\n",
       "    <tr>\n",
       "      <th>2999</th>\n",
       "      <td>42752990584</td>\n",
       "      <td>It fits very well, I took this photo after hes...</td>\n",
       "      <td>The colors of the goods received are very diff...</td>\n",
       "    </tr>\n",
       "  </tbody>\n",
       "</table>\n",
       "<p>3000 rows × 3 columns</p>\n",
       "</div>"
      ],
      "text/plain": [
       "                id                                            summary  \\\n",
       "0     561854202615  It looks very good, it pills a little, but the...   \n",
       "1     561859634230  The clothes have been received. The express de...   \n",
       "2     561867951687  The baby has been received. The upper body eff...   \n",
       "3     561871433925  It&#39;s very warm and the customer service is...   \n",
       "4     561872533813  The quality is very good, feel free to buy fro...   \n",
       "...            ...                                                ...   \n",
       "2995  567101327374  Very beautiful, no color difference, the real ...   \n",
       "2996   25398872232  The upper body effect is good, the fabric is c...   \n",
       "2997   39653879471  This classic style is very summery. When paire...   \n",
       "2998   40484786894  There is no color difference when I receive th...   \n",
       "2999   42752990584  It fits very well, I took this photo after hes...   \n",
       "\n",
       "                                             review_str  \n",
       "0     Not bad, not bad. It&#39;s a fine fabric and d...  \n",
       "1     The clothes look good and fit well. The seller...  \n",
       "2     The quality of clothes is not bad, not bad||||...  \n",
       "3     Overall it&#39;s very good, the warm color is ...  \n",
       "4     I really like the collar of the sweater. The c...  \n",
       "...                                                 ...  \n",
       "2995  The original camera was taken casually in the ...  \n",
       "2996  The fabric feels quite comfortable. I’ll revie...  \n",
       "2997  I just tried it and I like it very much. The q...  \n",
       "2998  I bought two pieces. The quality is the same, ...  \n",
       "2999  The colors of the goods received are very diff...  \n",
       "\n",
       "[3000 rows x 3 columns]"
      ]
     },
     "execution_count": 13,
     "metadata": {},
     "output_type": "execute_result"
    }
   ],
   "source": [
    "ids, reviews, summaries = [], [], []\n",
    "\n",
    "for json in tqdm(train_jsons):\n",
    "\n",
    "    item_id, translated_reviews, translated_summary = translate_json(json)\n",
    "    ids.append(item_id)\n",
    "    reviews.append(translated_reviews)\n",
    "    summaries.append(translated_summary)\n",
    "\n",
    "result_df = pd.DataFrame({\"id\": ids, \"reviews\": reviews, \"summary\": summaries})\n",
    "result_df[\"review_str\"] = result_df[\"reviews\"].apply(lambda x: \"|||||\".join(x))\n",
    "result_df = result_df[[\"id\", \"summary\", \"review_str\"]]\n",
    "\n",
    "result_df"
   ]
  },
  {
   "cell_type": "code",
   "execution_count": 14,
   "id": "b4ffb9bf-41d9-4a2f-b523-13bfe5d4a03c",
   "metadata": {},
   "outputs": [],
   "source": [
    "result_df.to_csv(\"../data/translated_data/train_trans_2000-5000.csv\", index=False)"
   ]
  },
  {
   "cell_type": "code",
   "execution_count": 11,
   "id": "f58c1829-c066-45f3-b2b2-70ba8811c2b6",
   "metadata": {},
   "outputs": [
    {
     "data": {
      "text/plain": [
       "0"
      ]
     },
     "execution_count": 11,
     "metadata": {},
     "output_type": "execute_result"
    }
   ],
   "source": [
    "del result_df\n",
    "gc.collect()"
   ]
  }
 ],
 "metadata": {
  "kernelspec": {
   "display_name": "Python 3 (ipykernel)",
   "language": "python",
   "name": "python3"
  },
  "language_info": {
   "codemirror_mode": {
    "name": "ipython",
    "version": 3
   },
   "file_extension": ".py",
   "mimetype": "text/x-python",
   "name": "python",
   "nbconvert_exporter": "python",
   "pygments_lexer": "ipython3",
   "version": "3.9.17"
  }
 },
 "nbformat": 4,
 "nbformat_minor": 5
}
