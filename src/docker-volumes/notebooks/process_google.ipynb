{
 "cells": [
  {
   "cell_type": "code",
   "execution_count": 6,
   "id": "f5259faf-f6c1-4e32-8795-bfe83cb9c269",
   "metadata": {},
   "outputs": [],
   "source": [
    "import pandas as pd\n",
    "import numpy as np\n",
    "from tqdm import tqdm\n",
    "import argparse\n",
    "import json\n",
    "\n",
    "RESTS = np.array(['American restaurant', 'Angler fish restaurant',\n",
    "       'Armenian restaurant', 'Asian fusion restaurant',\n",
    "       'Asian restaurant', 'Australian restaurant', 'Austrian restaurant',\n",
    "       'Barbecue restaurant', 'Breakfast restaurant', 'Brunch restaurant',\n",
    "       'Buffet restaurant', 'Burrito restaurant',\n",
    "       'Cheesesteak restaurant', 'Chicken restaurant',\n",
    "       'Chicken wings restaurant', 'Chinese noodle restaurant',\n",
    "       'Chinese restaurant', 'Chophouse restaurant',\n",
    "       'Continental restaurant', 'Delivery Chinese restaurant',\n",
    "       'Delivery Restaurant', 'Dessert restaurant',\n",
    "       'Down home cooking restaurant', 'European restaurant',\n",
    "       'Family restaurant', 'Fast food restaurant', 'Filipino restaurant',\n",
    "       'Fine dining restaurant', 'Fish & chips restaurant',\n",
    "       'German restaurant', 'Gluten-free restaurant', 'Greek restaurant',\n",
    "       'Hamburger restaurant', 'Hawaiian restaurant',\n",
    "       'Health food restaurant', 'Hoagie restaurant',\n",
    "       'Hot dog restaurant', 'Indian restaurant', 'Irish restaurant',\n",
    "       'Israeli restaurant', 'Italian restaurant', 'Japanese restaurant',\n",
    "       'Korean restaurant', 'Latin American restaurant',\n",
    "       'Lebanese restaurant', 'Lunch restaurant', 'Meat dish restaurant',\n",
    "       'Mediterranean restaurant', 'Mexican restaurant',\n",
    "       'Mexican torta restaurant', 'Middle Eastern restaurant',\n",
    "       'Mongolian barbecue restaurant', 'New American restaurant',\n",
    "       'Organic restaurant', 'Pan-Asian restaurant',\n",
    "       'Peruvian restaurant', 'Pho restaurant', 'Pizza restaurant',\n",
    "       'Ramen restaurant', 'Restaurant', 'Restaurant or cafe',\n",
    "       'Restaurant supply store', 'Rice restaurant', 'Seafood restaurant',\n",
    "       'Small plates restaurant', 'Soul food restaurant',\n",
    "       'Soup restaurant', 'Southeast Asian restaurant',\n",
    "       'Southern restaurant (US)', 'Southwestern restaurant (US)',\n",
    "       'Spanish restaurant', 'Sushi restaurant', 'Taco restaurant',\n",
    "       'Taiwanese restaurant', 'Takeout Restaurant', 'Takeout restaurant',\n",
    "       'Tex-Mex restaurant', 'Thai restaurant',\n",
    "       'Traditional American restaurant', 'Traditional restaurant',\n",
    "       'Vegan restaurant', 'Vegetarian restaurant',\n",
    "       'Venezuelan restaurant', 'Vietnamese restaurant',\n",
    "       'Western restaurant'], dtype='<U31')\n",
    "\n",
    "def parse(path):\n",
    "    g = open(path, 'r')\n",
    "    for l in g:\n",
    "        yield json.loads(l)\n",
    "\n",
    "\n",
    "def make_metadata_df(fl):\n",
    "    parser = parse(fl)\n",
    "    rest_records = []\n",
    "    print('Processing metadata')\n",
    "    for record in tqdm(parser):\n",
    "        if record['category'] != None:\n",
    "            if not set(record['category']).isdisjoint(RESTS):\n",
    "                rest_records.append([record['name'],\n",
    "                                     record['gmap_id'],\n",
    "                                     record['address'],\n",
    "                                     record['avg_rating'],\n",
    "                                     record['relative_results'],\n",
    "                                     record['num_of_reviews']])\n",
    "    \n",
    "    df = pd.DataFrame(rest_records, columns=['Name', 'gmap_id', 'address', 'avg_rating', \n",
    "                                             'relative_results', 'num_of_reviews'])\n",
    "    return df\n",
    "\n",
    "def make_reviews_df(fl, min_char=0, max_char=10000):\n",
    "    parser = parse(fl)\n",
    "    reviews = []\n",
    "    print('Processing reviews data')\n",
    "    for review in tqdm(parser):\n",
    "        if review['text'] != None:\n",
    "            if len(review['text']) >= min_char and len(review['text']) < max_char:\n",
    "                reviews.append([review['name'],\n",
    "                                review['rating'],\n",
    "                                review['text'],\n",
    "                                review['gmap_id']\n",
    "                               ])\n",
    "    df = pd.DataFrame(reviews, columns=['name', 'rating', 'text', 'gmap_id'])\n",
    "    return df\n",
    "\n"
   ]
  },
  {
   "cell_type": "code",
   "execution_count": 7,
   "id": "7cca08f7-1c4b-4c03-86cf-52e1fc7acf32",
   "metadata": {},
   "outputs": [
    {
     "data": {
      "text/plain": [
       "'/app/notebooks'"
      ]
     },
     "execution_count": 7,
     "metadata": {},
     "output_type": "execute_result"
    }
   ],
   "source": [
    "os.getcwd()"
   ]
  },
  {
   "cell_type": "code",
   "execution_count": null,
   "id": "c27850a6-b9e6-4d04-bd0b-a9e7a8dcd2cd",
   "metadata": {},
   "outputs": [],
   "source": [
    "reviews_file_path = \"data/review-Massachusetts_10.json\"\n",
    "meta_file_path = \"/app/data/meta-Massachusetts.json\"\n",
    "\n",
    "reviews_df = make_reviews_df(reviews_file_path, min_char=min_char, max_char=max_char)\n",
    "meta_df = make_metadata_df(metadata_file_path)\n",
    "\n",
    "meta_df = meta_df[meta_df['num_of_reviews'] < max_num_reviews]\n",
    "combined_df = reviews_df.merge(meta_df, on=\"gmap_id\", how=\"inner\")\n",
    "\n",
    "sub_df = combined_df.loc[:,['text', 'Name', 'address']]\n",
    "sub_df = sub_df.groupby([\"Name\", \"address\"]).agg({\"text\": \"|||||\".join}).reset_index()\n",
    "\n",
    "sub_df.to_csv(output_file_path)"
   ]
  }
 ],
 "metadata": {
  "kernelspec": {
   "display_name": "Python 3 (ipykernel)",
   "language": "python",
   "name": "python3"
  },
  "language_info": {
   "codemirror_mode": {
    "name": "ipython",
    "version": 3
   },
   "file_extension": ".py",
   "mimetype": "text/x-python",
   "name": "python",
   "nbconvert_exporter": "python",
   "pygments_lexer": "ipython3",
   "version": "3.9.17"
  }
 },
 "nbformat": 4,
 "nbformat_minor": 5
}
