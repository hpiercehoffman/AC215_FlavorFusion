{
 "cells": [
  {
   "cell_type": "markdown",
   "id": "cfcc6fd1-9203-4c5f-9549-4e98e8da4df4",
   "metadata": {},
   "source": [
    "## Parse and translate LSARS data ##"
   ]
  },
  {
   "cell_type": "code",
   "execution_count": 1,
   "id": "4ee34ec1-b0a1-4341-99cd-be270ce42b52",
   "metadata": {},
   "outputs": [],
   "source": [
    "import json\n",
    "import pandas as pd"
   ]
  },
  {
   "cell_type": "code",
   "execution_count": 2,
   "id": "8d3a3e44-2ef3-4df9-821d-104ae152bbff",
   "metadata": {},
   "outputs": [],
   "source": [
    "data_path = \"../data/chinese_data/\"\n",
    "training_data_path = data_path + \"train.json\""
   ]
  },
  {
   "cell_type": "code",
   "execution_count": null,
   "id": "fde5ceb6-c99f-4488-9905-0e41dcfbaad7",
   "metadata": {},
   "outputs": [],
   "source": []
  },
  {
   "cell_type": "code",
   "execution_count": null,
   "id": "1424ea4d-2938-48e6-9148-baf5d877cb4e",
   "metadata": {},
   "outputs": [],
   "source": []
  },
  {
   "cell_type": "code",
   "execution_count": null,
   "id": "cbe5fcfb-5c63-4e84-8c8c-f94c768698d3",
   "metadata": {},
   "outputs": [],
   "source": []
  }
 ],
 "metadata": {
  "kernelspec": {
   "display_name": "Python 3 (ipykernel)",
   "language": "python",
   "name": "python3"
  },
  "language_info": {
   "codemirror_mode": {
    "name": "ipython",
    "version": 3
   },
   "file_extension": ".py",
   "mimetype": "text/x-python",
   "name": "python",
   "nbconvert_exporter": "python",
   "pygments_lexer": "ipython3",
   "version": "3.9.17"
  }
 },
 "nbformat": 4,
 "nbformat_minor": 5
}
